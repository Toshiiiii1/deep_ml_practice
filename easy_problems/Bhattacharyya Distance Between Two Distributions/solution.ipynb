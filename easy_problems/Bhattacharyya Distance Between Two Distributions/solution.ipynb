{
 "cells": [
  {
   "cell_type": "code",
   "execution_count": null,
   "metadata": {},
   "outputs": [],
   "source": [
    "import numpy as np\n",
    "\n",
    "def bhattacharyya_distance(p: list[float], q: list[float]) -> float:\n",
    "    if p == [] or q == [] or len(p) != len(q):\n",
    "        return 0.0\n",
    "    p = np.array(p)\n",
    "    q = np.array(q)\n",
    "    bc = sum(np.sqrt(p * q))\n",
    "    bd = -np.log(bc)\n",
    "    return round(bd, 4)"
   ]
  },
  {
   "cell_type": "code",
   "execution_count": 12,
   "metadata": {},
   "outputs": [
    {
     "name": "stdout",
     "output_type": "stream",
     "text": [
      "0.1166\n"
     ]
    }
   ],
   "source": [
    "p = [0.1, 0.2, 0.3, 0.4]\n",
    "q = [0.4, 0.3, 0.2, 0.1]\n",
    "print(bhattacharyya_distance(p, q))"
   ]
  }
 ],
 "metadata": {
  "kernelspec": {
   "display_name": "deep_ml_VM",
   "language": "python",
   "name": "python3"
  },
  "language_info": {
   "codemirror_mode": {
    "name": "ipython",
    "version": 3
   },
   "file_extension": ".py",
   "mimetype": "text/x-python",
   "name": "python",
   "nbconvert_exporter": "python",
   "pygments_lexer": "ipython3",
   "version": "3.11.0"
  }
 },
 "nbformat": 4,
 "nbformat_minor": 2
}
