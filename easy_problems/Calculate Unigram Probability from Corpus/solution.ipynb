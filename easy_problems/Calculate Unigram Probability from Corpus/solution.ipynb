{
 "cells": [
  {
   "cell_type": "code",
   "execution_count": 9,
   "metadata": {},
   "outputs": [],
   "source": [
    "def unigram_probability(corpus: str, word: str) -> float:\n",
    "    total_words = len(corpus.split())\n",
    "    count_w = corpus.count(word)\n",
    "    return round(count_w / total_words, 4)"
   ]
  },
  {
   "cell_type": "code",
   "execution_count": 10,
   "metadata": {},
   "outputs": [
    {
     "name": "stdout",
     "output_type": "stream",
     "text": [
      "0.1818\n"
     ]
    }
   ],
   "source": [
    "corpus = \"<s> Jack I like </s> <s> Jack I do like </s>\"\n",
    "word = \"Jack\"\n",
    "print(unigram_probability(corpus, word))"
   ]
  }
 ],
 "metadata": {
  "kernelspec": {
   "display_name": "deep_ml_VM",
   "language": "python",
   "name": "python3"
  },
  "language_info": {
   "codemirror_mode": {
    "name": "ipython",
    "version": 3
   },
   "file_extension": ".py",
   "mimetype": "text/x-python",
   "name": "python",
   "nbconvert_exporter": "python",
   "pygments_lexer": "ipython3",
   "version": "3.11.0"
  }
 },
 "nbformat": 4,
 "nbformat_minor": 2
}
