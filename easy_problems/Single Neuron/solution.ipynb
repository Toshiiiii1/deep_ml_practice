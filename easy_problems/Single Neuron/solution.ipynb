{
 "cells": [
  {
   "cell_type": "code",
   "execution_count": 1,
   "metadata": {},
   "outputs": [],
   "source": [
    "import math\n",
    "import numpy as np\n",
    "\n",
    "def single_neuron_model(features: list[list[float]], labels: list[int], weights: list[float], bias: float) -> (list[float], float):\n",
    "    # convert parameters to numpy arrays\n",
    "    features = np.array(features)\n",
    "    labels = np.array(labels)\n",
    "    weights = np.array(weights)\n",
    "\n",
    "    # calculate the dot product of features and weights, add bias, and apply sigmoid function\n",
    "    z = np.dot(features, weights) + bias\n",
    "    probs = 1 / (1 + np.exp(-z))\n",
    "    # calculate the mean squared error\n",
    "    mse = np.mean(np.square(probs - labels))\n",
    "\n",
    "    return probs, mse"
   ]
  },
  {
   "cell_type": "code",
   "execution_count": 2,
   "metadata": {},
   "outputs": [
    {
     "name": "stdout",
     "output_type": "stream",
     "text": [
      "Probabilities: [0.46257015 0.41338242 0.66818777]\n",
      "Mean Squared Error: 0.33485541024953136\n"
     ]
    }
   ],
   "source": [
    "features = [[0.5, 1.0], [-1.5, -2.0], [2.0, 1.5]]\n",
    "labels = [0, 1, 0]\n",
    "weights = [0.7, -0.4]\n",
    "bias = -0.1\n",
    "probs, mse = single_neuron_model(features, labels, weights, bias)\n",
    "print(\"Probabilities:\", probs)\n",
    "print(\"Mean Squared Error:\", mse)"
   ]
  }
 ],
 "metadata": {
  "kernelspec": {
   "display_name": "deep_ml_VM",
   "language": "python",
   "name": "python3"
  },
  "language_info": {
   "codemirror_mode": {
    "name": "ipython",
    "version": 3
   },
   "file_extension": ".py",
   "mimetype": "text/x-python",
   "name": "python",
   "nbconvert_exporter": "python",
   "pygments_lexer": "ipython3",
   "version": "3.11.0"
  }
 },
 "nbformat": 4,
 "nbformat_minor": 2
}
