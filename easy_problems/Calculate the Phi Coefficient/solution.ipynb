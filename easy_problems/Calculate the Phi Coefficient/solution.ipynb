{
 "cells": [
  {
   "cell_type": "code",
   "execution_count": 12,
   "metadata": {},
   "outputs": [],
   "source": [
    "import math\n",
    "\n",
    "def phi_corr(x: list[int], y: list[int]) -> float:\n",
    "    counts = {\n",
    "        (0, 0): 0,\n",
    "        (0, 1): 0,\n",
    "        (1, 0): 0,\n",
    "        (1, 1): 0,\n",
    "    }\n",
    "\n",
    "    for xi, yi in zip(x, y):\n",
    "        counts[(xi, yi)] += 1\n",
    "        \n",
    "    x00 = counts[(0, 0)]\n",
    "    x01 = counts[(0, 1)]\n",
    "    x10 = counts[(1, 0)]\n",
    "    x11 = counts[(1, 1)]\n",
    "            \n",
    "    return (x00*x11 - x01*x10)/math.sqrt((x00+x01)*(x10+x11)*(x00+x10)*(x01+x11))"
   ]
  },
  {
   "cell_type": "code",
   "execution_count": null,
   "metadata": {},
   "outputs": [
    {
     "data": {
      "text/plain": [
       "-1.0"
      ]
     },
     "execution_count": 13,
     "metadata": {},
     "output_type": "execute_result"
    }
   ],
   "source": [
    "phi_corr([1, 1, 0, 0], [0, 0, 1, 1])"
   ]
  }
 ],
 "metadata": {
  "kernelspec": {
   "display_name": "deep_ml_VM",
   "language": "python",
   "name": "python3"
  },
  "language_info": {
   "codemirror_mode": {
    "name": "ipython",
    "version": 3
   },
   "file_extension": ".py",
   "mimetype": "text/x-python",
   "name": "python",
   "nbconvert_exporter": "python",
   "pygments_lexer": "ipython3",
   "version": "3.11.0"
  }
 },
 "nbformat": 4,
 "nbformat_minor": 2
}
