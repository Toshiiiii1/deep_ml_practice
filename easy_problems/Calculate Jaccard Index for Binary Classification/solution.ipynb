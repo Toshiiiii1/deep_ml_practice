{
 "cells": [
  {
   "cell_type": "code",
   "execution_count": null,
   "metadata": {},
   "outputs": [],
   "source": [
    "import numpy as np\n",
    "\n",
    "def jaccard_index(y_true, y_pred):\n",
    "    if len(y_true) == 0 or len(y_pred) == 0:\n",
    "        return 0.0\n",
    "    # uee and operator to calculate intersection between two binary sets\n",
    "    inter = sum(y_pred & y_true)\n",
    "    # uee or operator to calculate intersection between two binary sets\n",
    "    union = sum(y_pred | y_true)\n",
    "    return inter / union if union != 0 else 0.0"
   ]
  },
  {
   "cell_type": "code",
   "execution_count": 19,
   "metadata": {},
   "outputs": [
    {
     "name": "stdout",
     "output_type": "stream",
     "text": [
      "0.75\n"
     ]
    }
   ],
   "source": [
    "y_true = np.array([1, 0, 1, 1, 0, 1])\n",
    "y_pred = np.array([1, 0, 1, 0, 0, 1])\n",
    "print(jaccard_index(y_true, y_pred))"
   ]
  }
 ],
 "metadata": {
  "kernelspec": {
   "display_name": "deep_ml_VM",
   "language": "python",
   "name": "python3"
  },
  "language_info": {
   "codemirror_mode": {
    "name": "ipython",
    "version": 3
   },
   "file_extension": ".py",
   "mimetype": "text/x-python",
   "name": "python",
   "nbconvert_exporter": "python",
   "pygments_lexer": "ipython3",
   "version": "3.11.0"
  }
 },
 "nbformat": 4,
 "nbformat_minor": 2
}
