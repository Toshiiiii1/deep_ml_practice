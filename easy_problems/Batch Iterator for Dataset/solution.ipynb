{
 "cells": [
  {
   "cell_type": "code",
   "execution_count": 1,
   "metadata": {},
   "outputs": [],
   "source": [
    "import numpy as np\n",
    "\n",
    "def batch_iterator(X, y=None, batch_size=64):\n",
    "    num_samples = len(X)\n",
    "    result = []\n",
    "    for start in range(0, num_samples, batch_size):\n",
    "        '''\n",
    "        end index keep track the end position of batch's element\n",
    "        even the remain of the dataset\n",
    "        '''\n",
    "        end = min(start + batch_size, num_samples)\n",
    "        if y is not None:\n",
    "            result.append([X[start:end].tolist(), y[start:end].tolist()])\n",
    "        else:\n",
    "            result.append([X[start:end].tolist()])\n",
    "    return result"
   ]
  },
  {
   "cell_type": "code",
   "execution_count": 3,
   "metadata": {},
   "outputs": [
    {
     "name": "stdout",
     "output_type": "stream",
     "text": [
      "[[1, 2], [3, 4]] [1, 2]\n",
      "[[5, 6], [7, 8]] [3, 4]\n",
      "[[9, 10]] [5]\n"
     ]
    }
   ],
   "source": [
    "X = np.array([[1, 2], \n",
    "                  [3, 4], \n",
    "                  [5, 6], \n",
    "                  [7, 8], \n",
    "                  [9, 10]])\n",
    "y = np.array([1, 2, 3, 4, 5])\n",
    "batch_size = 2\n",
    "result = batch_iterator(X, y, batch_size)\n",
    "for batch in result:\n",
    "    print(batch[0], batch[1])"
   ]
  }
 ],
 "metadata": {
  "kernelspec": {
   "display_name": "deep_ml_VM",
   "language": "python",
   "name": "python3"
  },
  "language_info": {
   "codemirror_mode": {
    "name": "ipython",
    "version": 3
   },
   "file_extension": ".py",
   "mimetype": "text/x-python",
   "name": "python",
   "nbconvert_exporter": "python",
   "pygments_lexer": "ipython3",
   "version": "3.11.0"
  }
 },
 "nbformat": 4,
 "nbformat_minor": 2
}
