{
 "cells": [
  {
   "cell_type": "code",
   "execution_count": 23,
   "metadata": {},
   "outputs": [],
   "source": [
    "import numpy as np\n",
    "\n",
    "def global_avg_pool(x: np.ndarray) -> np.ndarray:\n",
    "    return np.average(x, axis=(0, 1))"
   ]
  },
  {
   "cell_type": "code",
   "execution_count": null,
   "metadata": {},
   "outputs": [
    {
     "name": "stdout",
     "output_type": "stream",
     "text": [
      "[5.5 6.5 7.5]\n"
     ]
    }
   ],
   "source": [
    "'''\n",
    "Example:\n",
    "data = np.array([\n",
    "  [[0, 1],\n",
    "   [2, 3]],\n",
    "\n",
    "  [[4, 5],\n",
    "   [6, 7]]\n",
    "])\n",
    "\n",
    "axis = 0 inlcudes: (0, 4), (1, 5), (2, 6), (3, 7)\n",
    "axis = 1 includes: (0, 2), (1, 3), (4, 6), (5, 7)\n",
    "axis = 2 includes: (0, 1), (2, 3), (4, 5), (6, 7)\n",
    "axis = (0, 1) includes: (0, 2, 4, 6), (1, 3, 5, 7)\n",
    "axis = (1, 2) includes: (0, 1, 2, 3), (4, 5, 6, 7)\n",
    "axis = (0, 2) includes: (0, 1, 4, 5), (2, 3, 6, 7)\n",
    "'''\n",
    "\n",
    "x = np.array([\n",
    "  [[ 1,  2,  3],\n",
    "   [ 4,  5,  6]],\n",
    "\n",
    "  [[ 7,  8,  9],\n",
    "   [10, 11, 12]]\n",
    "])\n",
    "\n",
    "print(global_avg_pool(x))"
   ]
  }
 ],
 "metadata": {
  "kernelspec": {
   "display_name": "deep_ml_VM",
   "language": "python",
   "name": "python3"
  },
  "language_info": {
   "codemirror_mode": {
    "name": "ipython",
    "version": 3
   },
   "file_extension": ".py",
   "mimetype": "text/x-python",
   "name": "python",
   "nbconvert_exporter": "python",
   "pygments_lexer": "ipython3",
   "version": "3.11.0"
  }
 },
 "nbformat": 4,
 "nbformat_minor": 2
}
