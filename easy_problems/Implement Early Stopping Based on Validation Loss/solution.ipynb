{
 "cells": [
  {
   "cell_type": "code",
   "execution_count": 50,
   "metadata": {},
   "outputs": [],
   "source": [
    "from typing import Tuple\n",
    "\n",
    "def early_stopping(losses: list[float], patience: int, min_delta: float) -> Tuple[int, int]:\n",
    "    best_loss = losses[0]\n",
    "    best_loss_epoch = 0\n",
    "    patience_counter = 0\n",
    "    for current_epoch in range(1, len(losses)):\n",
    "        if best_loss - losses[current_epoch] > min_delta:\n",
    "            best_loss = losses[current_epoch]\n",
    "            best_loss_epoch = current_epoch\n",
    "            patience_counter = 0  # reset nếu có cải thiện\n",
    "        else:\n",
    "            patience_counter += 1\n",
    "            if patience_counter == patience:\n",
    "                break  # lúc này mới dừng\n",
    "        \n",
    "    return (current_epoch, best_loss_epoch)"
   ]
  },
  {
   "cell_type": "code",
   "execution_count": 53,
   "metadata": {},
   "outputs": [
    {
     "name": "stdout",
     "output_type": "stream",
     "text": [
      "(4, 2)\n"
     ]
    }
   ],
   "source": [
    "print(early_stopping([0.9, 0.8, 0.75, 0.77, 0.76, 0.77, 0.78], 2, 0.01))"
   ]
  }
 ],
 "metadata": {
  "kernelspec": {
   "display_name": "deep_ml_VM",
   "language": "python",
   "name": "python3"
  },
  "language_info": {
   "codemirror_mode": {
    "name": "ipython",
    "version": 3
   },
   "file_extension": ".py",
   "mimetype": "text/x-python",
   "name": "python",
   "nbconvert_exporter": "python",
   "pygments_lexer": "ipython3",
   "version": "3.11.0"
  }
 },
 "nbformat": 4,
 "nbformat_minor": 2
}
