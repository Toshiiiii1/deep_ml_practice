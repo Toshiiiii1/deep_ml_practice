{
 "cells": [
  {
   "cell_type": "code",
   "execution_count": 10,
   "metadata": {},
   "outputs": [],
   "source": [
    "import numpy as np\n",
    "\n",
    "def phi_calculate(x, degree):\n",
    "    result = []\n",
    "    for i in range(degree+1):\n",
    "        result.append(np.pow(x, i))\n",
    "    return result\n",
    "\n",
    "def phi_transform(data: list[float], degree: int) -> list[list[float]]:\n",
    "    result = []\n",
    "    if degree >= 0:\n",
    "        for i in data:\n",
    "            temp = []\n",
    "            for j in range(degree+1):\n",
    "                temp.append(np.pow(i, j))\n",
    "            result.append(temp)\n",
    "        \n",
    "    return result"
   ]
  },
  {
   "cell_type": "code",
   "execution_count": 13,
   "metadata": {},
   "outputs": [
    {
     "name": "stdout",
     "output_type": "stream",
     "text": [
      "[[np.float64(1.0), np.float64(1.0), np.float64(1.0)], [np.float64(1.0), np.float64(2.0), np.float64(4.0)]]\n"
     ]
    }
   ],
   "source": [
    "data = [1.0, 2.0]\n",
    "degree = 2\n",
    "print(phi_transform(data, degree))"
   ]
  }
 ],
 "metadata": {
  "kernelspec": {
   "display_name": "deep_ml_VM",
   "language": "python",
   "name": "python3"
  },
  "language_info": {
   "codemirror_mode": {
    "name": "ipython",
    "version": 3
   },
   "file_extension": ".py",
   "mimetype": "text/x-python",
   "name": "python",
   "nbconvert_exporter": "python",
   "pygments_lexer": "ipython3",
   "version": "3.11.0"
  }
 },
 "nbformat": 4,
 "nbformat_minor": 2
}
