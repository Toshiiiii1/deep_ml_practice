{
 "cells": [
  {
   "cell_type": "code",
   "execution_count": 11,
   "metadata": {},
   "outputs": [],
   "source": [
    "import numpy as np \n",
    "def descriptive_statistics(data):\n",
    "    mean = np.mean(data)\n",
    "    median = np.median(data)\n",
    "    variance = np.var(data)\n",
    "    std_dev = np.std(data)\n",
    "    percentiles = [np.percentile(data, 25), np.percentile(data, 50), np.percentile(data, 75)]\n",
    "    iqr = percentiles[-1] - percentiles[0]\n",
    "    \n",
    "    unique_counts = np.unique(data, return_counts=True)\n",
    "    index = np.argmax(unique_counts[1])\n",
    "    mode = unique_counts[0][int(index)]\n",
    "    stats_dict = {\n",
    "        \"mean\": mean,\n",
    "        \"median\": median,\n",
    "        \"mode\": mode,\n",
    "        \"variance\": np.round(variance,4),\n",
    "        \"standard_deviation\": np.round(std_dev,4),\n",
    "        \"25th_percentile\": percentiles[0],\n",
    "        \"50th_percentile\": percentiles[1],\n",
    "        \"75th_percentile\": percentiles[2],\n",
    "        \"interquartile_range\": iqr\n",
    "    }\n",
    "    return stats_dict"
   ]
  },
  {
   "cell_type": "code",
   "execution_count": 12,
   "metadata": {},
   "outputs": [
    {
     "name": "stdout",
     "output_type": "stream",
     "text": [
      "{'mean': np.float64(30.0), 'median': np.float64(30.0), 'mode': np.int64(10), 'variance': np.float64(200.0), 'standard_deviation': np.float64(14.1421), '25th_percentile': np.float64(20.0), '50th_percentile': np.float64(30.0), '75th_percentile': np.float64(40.0), 'interquartile_range': np.float64(20.0)}\n"
     ]
    }
   ],
   "source": [
    "data = [10, 20, 30, 40, 50]\n",
    "print(descriptive_statistics(data))"
   ]
  }
 ],
 "metadata": {
  "kernelspec": {
   "display_name": "deep_ml_VM",
   "language": "python",
   "name": "python3"
  },
  "language_info": {
   "codemirror_mode": {
    "name": "ipython",
    "version": 3
   },
   "file_extension": ".py",
   "mimetype": "text/x-python",
   "name": "python",
   "nbconvert_exporter": "python",
   "pygments_lexer": "ipython3",
   "version": "3.11.0"
  }
 },
 "nbformat": 4,
 "nbformat_minor": 2
}
