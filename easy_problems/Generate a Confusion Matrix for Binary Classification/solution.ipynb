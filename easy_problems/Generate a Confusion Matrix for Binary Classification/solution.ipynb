{
 "cells": [
  {
   "cell_type": "code",
   "execution_count": 7,
   "metadata": {},
   "outputs": [],
   "source": [
    "from collections import Counter\n",
    "\n",
    "def confusion_matrix(data):\n",
    "    tp, fp, fn, tn = 0, 0, 0, 0\n",
    "    for pair in data:\n",
    "        if pair[0] == 1 and pair[1] == 1:\n",
    "            tp += 1\n",
    "        elif pair[0] == 1 and pair[1] == 0:\n",
    "            fn += 1\n",
    "        elif pair[0] == 0 and pair[1] == 1:\n",
    "            fp += 1\n",
    "        elif pair[0] == 0 and pair[1] == 0:\n",
    "            tn += 1\n",
    "            \n",
    "    return [[tp, fn], [fp, tn]]"
   ]
  },
  {
   "cell_type": "code",
   "execution_count": 8,
   "metadata": {},
   "outputs": [
    {
     "name": "stdout",
     "output_type": "stream",
     "text": [
      "[[1, 1], [2, 1]]\n"
     ]
    }
   ],
   "source": [
    "data = [[1, 1], [1, 0], [0, 1], [0, 0], [0, 1]]\n",
    "print(confusion_matrix(data))"
   ]
  }
 ],
 "metadata": {
  "kernelspec": {
   "display_name": "deep_ml_VM",
   "language": "python",
   "name": "python3"
  },
  "language_info": {
   "codemirror_mode": {
    "name": "ipython",
    "version": 3
   },
   "file_extension": ".py",
   "mimetype": "text/x-python",
   "name": "python",
   "nbconvert_exporter": "python",
   "pygments_lexer": "ipython3",
   "version": "3.11.0"
  }
 },
 "nbformat": 4,
 "nbformat_minor": 2
}
