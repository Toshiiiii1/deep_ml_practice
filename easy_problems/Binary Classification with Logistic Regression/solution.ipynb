{
 "cells": [
  {
   "cell_type": "code",
   "execution_count": 90,
   "metadata": {},
   "outputs": [],
   "source": [
    "import numpy as np\n",
    "\n",
    "def predict_logistic(X: np.ndarray, weights: np.ndarray, bias: float) -> np.ndarray:\n",
    "    # linear combination between X and weights\n",
    "    z = np.dot(X, weights) + bias\n",
    "    # apply sigmoid activation function\n",
    "    probs = np.apply_along_axis(func1d=lambda z: 1 / (1 + pow(np.e, -z)), axis=0, arr=z)\n",
    "    # convert probs to labels\n",
    "    labels = np.where(probs < 0.5, 0, 1)\n",
    "    \n",
    "    return labels"
   ]
  },
  {
   "cell_type": "code",
   "execution_count": 91,
   "metadata": {},
   "outputs": [
    {
     "name": "stdout",
     "output_type": "stream",
     "text": [
      "[1 1 0]\n"
     ]
    }
   ],
   "source": [
    "x = np.array([[0, 0], [0.1, 0.1], [-0.1, -0.1]])\n",
    "weights = np.array([1, 1])\n",
    "bias = 0\n",
    "print(predict_logistic(x, weights=weights, bias=bias))"
   ]
  }
 ],
 "metadata": {
  "kernelspec": {
   "display_name": "deep_ml_VM",
   "language": "python",
   "name": "python3"
  },
  "language_info": {
   "codemirror_mode": {
    "name": "ipython",
    "version": 3
   },
   "file_extension": ".py",
   "mimetype": "text/x-python",
   "name": "python",
   "nbconvert_exporter": "python",
   "pygments_lexer": "ipython3",
   "version": "3.11.0"
  }
 },
 "nbformat": 4,
 "nbformat_minor": 2
}
