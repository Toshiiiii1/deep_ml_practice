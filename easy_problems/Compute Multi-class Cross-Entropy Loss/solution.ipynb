{
 "cells": [
  {
   "cell_type": "code",
   "execution_count": 51,
   "metadata": {},
   "outputs": [],
   "source": [
    "import numpy as np\n",
    "\n",
    "def compute_cross_entropy_loss(predicted_probs: np.ndarray, true_labels: np.ndarray, epsilon = 1e-15) -> float:\n",
    "    loss = np.sum(true_labels * np.log(predicted_probs), axis=1)\n",
    "    mean_logg = -np.mean(loss)\n",
    "    result = round(mean_logg, 4)\n",
    "    return result if result != 0.0 else -result"
   ]
  },
  {
   "cell_type": "code",
   "execution_count": 52,
   "metadata": {},
   "outputs": [
    {
     "name": "stdout",
     "output_type": "stream",
     "text": [
      "0.4338\n"
     ]
    }
   ],
   "source": [
    "pred = np.array([[0.7, 0.2, 0.1], [0.3, 0.6, 0.1]])\n",
    "true = np.array([[1, 0, 0], [0, 1, 0]])\n",
    "print(compute_cross_entropy_loss(pred, true))"
   ]
  }
 ],
 "metadata": {
  "kernelspec": {
   "display_name": "deep_ml_VM",
   "language": "python",
   "name": "python3"
  },
  "language_info": {
   "codemirror_mode": {
    "name": "ipython",
    "version": 3
   },
   "file_extension": ".py",
   "mimetype": "text/x-python",
   "name": "python",
   "nbconvert_exporter": "python",
   "pygments_lexer": "ipython3",
   "version": "3.11.0"
  }
 },
 "nbformat": 4,
 "nbformat_minor": 2
}
