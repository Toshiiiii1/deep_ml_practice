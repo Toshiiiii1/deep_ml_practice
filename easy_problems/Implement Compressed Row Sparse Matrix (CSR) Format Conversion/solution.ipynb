{
 "cells": [
  {
   "cell_type": "code",
   "execution_count": null,
   "metadata": {},
   "outputs": [],
   "source": [
    "import numpy as np\n",
    "\n",
    "def compressed_row_sparse_matrix(dense_matrix):\n",
    "    rows, cols = np.array(dense_matrix).shape\n",
    "    vals, col_idx, row_ptr = [], [], [0]\n",
    "    for i in range(rows):\n",
    "        count_nonzero = 0\n",
    "        for j in range(cols):\n",
    "            if dense_matrix[i][j] != 0:\n",
    "                # Store the non-zero value and its column index\n",
    "                vals.append(dense_matrix[i][j])\n",
    "                col_idx.append(j)\n",
    "                # Increment the count of non-zero values in the current row\n",
    "                count_nonzero += 1\n",
    "        # row_ptr is used to find the start index of the row contain non-zero values base on vals array\n",
    "        row_ptr.append(row_ptr[-1] + count_nonzero)\n",
    "        \n",
    "    return vals, col_idx, row_ptr"
   ]
  },
  {
   "cell_type": "code",
   "execution_count": 12,
   "metadata": {},
   "outputs": [
    {
     "name": "stdout",
     "output_type": "stream",
     "text": [
      "Values array: [1, 2, 3, 4, 1, 5]\n",
      "Column indices array: [0, 1, 0, 2, 0, 3]\n",
      "Row pointer array: [0, 1, 2, 4, 6]\n"
     ]
    }
   ],
   "source": [
    "dense_matrix = [\n",
    "    [1, 0, 0, 0],\n",
    "    [0, 2, 0, 0],\n",
    "    [3, 0, 4, 0],\n",
    "    [1, 0, 0, 5]\n",
    "]\n",
    "\n",
    "vals, col_idx, row_ptr = compressed_row_sparse_matrix(dense_matrix)\n",
    "print(\"Values array:\", vals)\n",
    "print(\"Column indices array:\", col_idx)\n",
    "print(\"Row pointer array:\", row_ptr)"
   ]
  }
 ],
 "metadata": {
  "kernelspec": {
   "display_name": "deep_ml_VM",
   "language": "python",
   "name": "python3"
  },
  "language_info": {
   "codemirror_mode": {
    "name": "ipython",
    "version": 3
   },
   "file_extension": ".py",
   "mimetype": "text/x-python",
   "name": "python",
   "nbconvert_exporter": "python",
   "pygments_lexer": "ipython3",
   "version": "3.11.0"
  }
 },
 "nbformat": 4,
 "nbformat_minor": 2
}
