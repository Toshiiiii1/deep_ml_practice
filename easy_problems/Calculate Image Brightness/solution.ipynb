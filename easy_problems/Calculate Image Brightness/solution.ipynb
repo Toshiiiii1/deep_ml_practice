{
 "cells": [
  {
   "cell_type": "code",
   "execution_count": null,
   "metadata": {},
   "outputs": [],
   "source": [
    "def calculate_brightness(img):\n",
    "    # Check for None or empty image\n",
    "    if not img or not img[0]:\n",
    "        return -1\n",
    "    \n",
    "    # Get dimensions and validate row consistency\n",
    "    rows, cols = len(img), len(img[0])\n",
    "    if any(len(row) != cols for row in img):\n",
    "        return -1\n",
    "    \n",
    "    # Calculate sum and validate pixel values\n",
    "    total = 0\n",
    "    for row in img:\n",
    "        for pixel in row:\n",
    "            if not 0 <= pixel <= 255:\n",
    "                return -1\n",
    "            total += pixel\n",
    "    \n",
    "    # Return average rounded to 2 decimal places\n",
    "    return round(total / (rows * cols), 2)"
   ]
  },
  {
   "cell_type": "code",
   "execution_count": 20,
   "metadata": {},
   "outputs": [
    {
     "name": "stdout",
     "output_type": "stream",
     "text": [
      "125.0\n"
     ]
    }
   ],
   "source": [
    "img = [\n",
    "    [100, 200],\n",
    "    [50, 150]\n",
    "]\n",
    "print(calculate_brightness(img))"
   ]
  }
 ],
 "metadata": {
  "kernelspec": {
   "display_name": "deep_ml_VM",
   "language": "python",
   "name": "python3"
  },
  "language_info": {
   "codemirror_mode": {
    "name": "ipython",
    "version": 3
   },
   "file_extension": ".py",
   "mimetype": "text/x-python",
   "name": "python",
   "nbconvert_exporter": "python",
   "pygments_lexer": "ipython3",
   "version": "3.11.0"
  }
 },
 "nbformat": 4,
 "nbformat_minor": 2
}
