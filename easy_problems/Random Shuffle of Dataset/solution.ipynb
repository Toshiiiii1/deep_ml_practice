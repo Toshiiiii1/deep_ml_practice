{
 "cells": [
  {
   "cell_type": "code",
   "execution_count": 1,
   "metadata": {},
   "outputs": [],
   "source": [
    "import numpy as np\n",
    "\n",
    "def shuffle_data(X, y, seed=None):\n",
    "    if seed:\n",
    "        np.random.seed(seed)\n",
    "    indexs = np.arange(len(X))\n",
    "    np.random.shuffle(indexs)\n",
    "    new_X = np.array([X[i] for i in indexs])\n",
    "    new_y = np.array([y[i] for i in indexs])\n",
    "\n",
    "    return new_X, new_y"
   ]
  },
  {
   "cell_type": "code",
   "execution_count": 10,
   "metadata": {},
   "outputs": [
    {
     "name": "stdout",
     "output_type": "stream",
     "text": [
      "(array([[3, 4],\n",
      "       [7, 8],\n",
      "       [1, 2],\n",
      "       [5, 6]]), array([2, 4, 1, 3]))\n"
     ]
    }
   ],
   "source": [
    "X = np.array([[1, 2], \n",
    "                  [3, 4], \n",
    "                  [5, 6], \n",
    "                  [7, 8]])\n",
    "y = np.array([1, 2, 3, 4])\n",
    "print(shuffle_data(X, y, seed=42))"
   ]
  }
 ],
 "metadata": {
  "kernelspec": {
   "display_name": "deep_ml_VM",
   "language": "python",
   "name": "python3"
  },
  "language_info": {
   "codemirror_mode": {
    "name": "ipython",
    "version": 3
   },
   "file_extension": ".py",
   "mimetype": "text/x-python",
   "name": "python",
   "nbconvert_exporter": "python",
   "pygments_lexer": "ipython3",
   "version": "3.11.0"
  }
 },
 "nbformat": 4,
 "nbformat_minor": 2
}
