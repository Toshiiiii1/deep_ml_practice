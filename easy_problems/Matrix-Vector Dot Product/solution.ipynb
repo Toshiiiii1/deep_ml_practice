{
 "cells": [
  {
   "cell_type": "code",
   "execution_count": null,
   "metadata": {},
   "outputs": [],
   "source": [
    "def matrix_dot_vector(a: list[list[int|float]], b: list[int|float]) -> list[int|float]:\n",
    "    # check if the number of columns in a equals the length if vector b\n",
    "    if len(a[0]) != len(b):\n",
    "        return -1\n",
    "    \n",
    "    '''\n",
    "    - sum(row[i] * b[i] for i in range(len(b))): calculates the dot product of each row in matrix a with vector b.\n",
    "    - [ ... for row in a]: iterates through each row of matrix a.\n",
    "    '''\n",
    "    return [sum(row[i] * b[i] for i in range(len(b))) for row in a]"
   ]
  },
  {
   "cell_type": "code",
   "execution_count": 5,
   "metadata": {},
   "outputs": [
    {
     "name": "stdout",
     "output_type": "stream",
     "text": [
      "[5, 10]\n"
     ]
    }
   ],
   "source": [
    "# input\n",
    "a = [[1, 2], [2, 4]]\n",
    "b = [1, 2]\n",
    "print(matrix_dot_vector(a, b))"
   ]
  }
 ],
 "metadata": {
  "kernelspec": {
   "display_name": "deep_ml_VM",
   "language": "python",
   "name": "python3"
  },
  "language_info": {
   "codemirror_mode": {
    "name": "ipython",
    "version": 3
   },
   "file_extension": ".py",
   "mimetype": "text/x-python",
   "name": "python",
   "nbconvert_exporter": "python",
   "pygments_lexer": "ipython3",
   "version": "3.11.0"
  }
 },
 "nbformat": 4,
 "nbformat_minor": 2
}
