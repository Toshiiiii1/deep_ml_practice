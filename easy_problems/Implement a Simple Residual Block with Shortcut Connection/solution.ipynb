{
 "cells": [
  {
   "cell_type": "code",
   "execution_count": 18,
   "metadata": {},
   "outputs": [],
   "source": [
    "import numpy as np\n",
    "\n",
    "def residual_block(x: np.ndarray, w1: np.ndarray, w2: np.ndarray) -> np.ndarray:\n",
    "    z1 = np.dot(x, w1)\n",
    "    z1 = np.array(list(map(lambda x: max(0, x), z1)))\n",
    "    z2 = np.dot(z1, w2)\n",
    "    z2 = np.array(list(map(lambda x: max(0, x), z2)))\n",
    "    y = np.array(list(map(lambda x: max(0, x), z2 + x)))\n",
    "    return y"
   ]
  },
  {
   "cell_type": "code",
   "execution_count": 19,
   "metadata": {},
   "outputs": [
    {
     "name": "stdout",
     "output_type": "stream",
     "text": [
      "[1.5 3. ]\n"
     ]
    }
   ],
   "source": [
    "x = np.array([1.0, 2.0])\n",
    "w1 = np.array([[1.0, 0.0], [0.0, 1.0]])\n",
    "w2 = np.array([[0.5, 0.0], [0.0, 0.5]])\n",
    "print(residual_block(x, w1, w2))"
   ]
  }
 ],
 "metadata": {
  "kernelspec": {
   "display_name": "deep_ml_VM",
   "language": "python",
   "name": "python3"
  },
  "language_info": {
   "codemirror_mode": {
    "name": "ipython",
    "version": 3
   },
   "file_extension": ".py",
   "mimetype": "text/x-python",
   "name": "python",
   "nbconvert_exporter": "python",
   "pygments_lexer": "ipython3",
   "version": "3.11.0"
  }
 },
 "nbformat": 4,
 "nbformat_minor": 2
}
