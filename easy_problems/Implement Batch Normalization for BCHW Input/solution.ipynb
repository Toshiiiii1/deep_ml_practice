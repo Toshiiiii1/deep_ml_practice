{
 "cells": [
  {
   "cell_type": "code",
   "execution_count": null,
   "metadata": {},
   "outputs": [],
   "source": [
    "import numpy as np\n",
    "import math\n",
    "\n",
    "def batch_normalization(X: np.ndarray, gamma: np.ndarray, beta: np.ndarray, epsilon: float = 1e-5) -> np.ndarray:\n",
    "    # B, C, H, W  = X.shape\n",
    "    # means = []\n",
    "    # for channel in range(C):\n",
    "    #     total = 0.0\n",
    "    #     for batch in range(B):\n",
    "    #         for h in range(H):\n",
    "    #             for w in range(W):\n",
    "    #                 total += X[batch][channel][h][w]\n",
    "    #     means.append(total/(B*H*W))\n",
    "\n",
    "    # vars = []\n",
    "    # for channel in range(C):\n",
    "    #     total = 0.0\n",
    "    #     for batch in range(B):\n",
    "    #         for h in range(H):\n",
    "    #             for w in range(W):\n",
    "    #                 total += pow(X[batch][channel][h][w] - means[channel], 2)\n",
    "    #     vars.append(total/(B*H*W))\n",
    "        \n",
    "    # for channel in range(C):\n",
    "    #     for batch in range(B):\n",
    "    #         for h in range(H):\n",
    "    #             for w in range(W):\n",
    "    #                 nume = X[batch][channel][h][w] - means[channel]\n",
    "    #                 deno = math.sqrt(vars[channel] + 1e-5)\n",
    "    #                 X[batch][channel][h][w] = nume/deno\n",
    "                    \n",
    "    means = np.mean(X, axis=(0, 2, 3), keepdims=True) # Output: [1, C, 1, 1]\n",
    "    vars = np.var(X, axis=(0, 2, 3), keepdims=True) # Output: [1, C, 1, 1]\n",
    "    \n",
    "    X_norm = (X - means) / np.sqrt(vars + epsilon)\n",
    "                    \n",
    "    return gamma*X_norm + beta"
   ]
  },
  {
   "cell_type": "code",
   "execution_count": 37,
   "metadata": {},
   "outputs": [
    {
     "name": "stdout",
     "output_type": "stream",
     "text": [
      "[[[[ 0.42859934 -0.51776438]\n",
      "   [ 0.65360963  1.95820707]]\n",
      "\n",
      "  [[ 0.02353721  0.02355215]\n",
      "   [ 1.67355207  0.93490043]]]\n",
      "\n",
      "\n",
      " [[[-1.01139563  0.49692747]\n",
      "   [-1.00236882 -1.00581468]]\n",
      "\n",
      "  [[ 0.45676349 -1.50433085]\n",
      "   [-1.33293647 -0.27503802]]]]\n"
     ]
    }
   ],
   "source": [
    "B, C, H, W = 2, 2, 2, 2\n",
    "np.random.seed(42)\n",
    "X = np.random.randn(B, C, H, W)\n",
    "gamma = np.ones(C).reshape(1, C, 1, 1)\n",
    "beta = np.zeros(C).reshape(1, C, 1, 1)\n",
    "print(batch_normalization(X, gamma, beta))"
   ]
  }
 ],
 "metadata": {
  "kernelspec": {
   "display_name": "deep_ml_VM",
   "language": "python",
   "name": "python3"
  },
  "language_info": {
   "codemirror_mode": {
    "name": "ipython",
    "version": 3
   },
   "file_extension": ".py",
   "mimetype": "text/x-python",
   "name": "python",
   "nbconvert_exporter": "python",
   "pygments_lexer": "ipython3",
   "version": "3.11.0"
  }
 },
 "nbformat": 4,
 "nbformat_minor": 2
}
