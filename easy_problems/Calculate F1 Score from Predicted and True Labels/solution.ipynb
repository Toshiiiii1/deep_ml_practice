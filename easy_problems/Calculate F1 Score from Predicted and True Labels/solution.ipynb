{
 "cells": [
  {
   "cell_type": "code",
   "execution_count": 20,
   "metadata": {},
   "outputs": [],
   "source": [
    "def calculate_f1_score(y_true, y_pred):\n",
    "    tp, fp, fn = 0, 0, 0\n",
    "    for i in range(len(y_true)):\n",
    "        if y_true[i] == 1 and y_pred[i] == 1:\n",
    "            tp += 1\n",
    "        elif y_true[i] == 0 and y_pred[i] == 1:\n",
    "            fp += 1\n",
    "        elif y_true[i] == 1 and y_pred[i] == 0:\n",
    "            fn += 1\n",
    "    try:\n",
    "        precision = tp/(tp + fp)\n",
    "        recall = tp/(tp + fn)\n",
    "        f1 = (2 * precision * recall)/(precision + recall)\n",
    "    except:\n",
    "        f1 = 0.0\n",
    "    return round(f1, 3)"
   ]
  },
  {
   "cell_type": "code",
   "execution_count": 21,
   "metadata": {},
   "outputs": [
    {
     "name": "stdout",
     "output_type": "stream",
     "text": [
      "0.0\n"
     ]
    }
   ],
   "source": [
    "y_true = [1, 0, 1, 1, 0]\n",
    "y_pred = [1, 0, 0, 1, 1]\n",
    "print(calculate_f1_score([0, 0, 0, 0], [1, 1, 1, 1]))"
   ]
  }
 ],
 "metadata": {
  "kernelspec": {
   "display_name": "deep_ml_VM",
   "language": "python",
   "name": "python3"
  },
  "language_info": {
   "codemirror_mode": {
    "name": "ipython",
    "version": 3
   },
   "file_extension": ".py",
   "mimetype": "text/x-python",
   "name": "python",
   "nbconvert_exporter": "python",
   "pygments_lexer": "ipython3",
   "version": "3.11.0"
  }
 },
 "nbformat": 4,
 "nbformat_minor": 2
}
