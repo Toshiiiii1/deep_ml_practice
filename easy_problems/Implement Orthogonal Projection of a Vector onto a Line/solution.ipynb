{
 "cells": [
  {
   "cell_type": "code",
   "execution_count": 7,
   "metadata": {},
   "outputs": [],
   "source": [
    "import numpy as np\n",
    "\n",
    "def orthogonal_projection(v, L):\n",
    "    v = np.array(v)\n",
    "    L = np.array(L)\n",
    "    return np.dot(v, L) / np.dot(L, L) * L"
   ]
  },
  {
   "cell_type": "code",
   "execution_count": 8,
   "metadata": {},
   "outputs": [
    {
     "name": "stdout",
     "output_type": "stream",
     "text": [
      "[3. 0.]\n"
     ]
    }
   ],
   "source": [
    "v = [3, 4]\n",
    "L = [1, 0]\n",
    "print(orthogonal_projection(v, L))"
   ]
  }
 ],
 "metadata": {
  "kernelspec": {
   "display_name": "deep_ml_VM",
   "language": "python",
   "name": "python3"
  },
  "language_info": {
   "codemirror_mode": {
    "name": "ipython",
    "version": 3
   },
   "file_extension": ".py",
   "mimetype": "text/x-python",
   "name": "python",
   "nbconvert_exporter": "python",
   "pygments_lexer": "ipython3",
   "version": "3.11.0"
  }
 },
 "nbformat": 4,
 "nbformat_minor": 2
}
