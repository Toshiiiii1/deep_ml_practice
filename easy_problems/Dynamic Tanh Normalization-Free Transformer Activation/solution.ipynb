{
 "cells": [
  {
   "cell_type": "code",
   "execution_count": 8,
   "metadata": {},
   "outputs": [],
   "source": [
    "import numpy as np\n",
    "\n",
    "def dynamic_tanh(x: np.ndarray, alpha: float, gamma: float, beta: float) -> list[float]:\n",
    "    return np.round(gamma * np.tanh(alpha * x) + beta, decimals=4)"
   ]
  },
  {
   "cell_type": "code",
   "execution_count": 9,
   "metadata": {},
   "outputs": [
    {
     "name": "stdout",
     "output_type": "stream",
     "text": [
      "[[[0.0705 0.0019 0.1201 0.1105]]]\n"
     ]
    }
   ],
   "source": [
    "x = np.array([[[0.14115588, 0.00372817, 0.24126647, 0.22183601]]])\n",
    "gamma = np.ones((4,))\n",
    "beta = np.zeros((4,))\n",
    "alpha = 0.5\n",
    "print(dynamic_tanh(x, alpha, gamma, beta))"
   ]
  },
  {
   "cell_type": "code",
   "execution_count": 6,
   "metadata": {},
   "outputs": [
    {
     "name": "stdout",
     "output_type": "stream",
     "text": [
      "[[[0.0705 0.0019 0.1201 0.1105]]]\n"
     ]
    }
   ],
   "source": [
    "print(np.round(gamma * np.tanh(alpha * x) + beta, decimals=4))"
   ]
  }
 ],
 "metadata": {
  "kernelspec": {
   "display_name": "deep_ml_VM",
   "language": "python",
   "name": "python3"
  },
  "language_info": {
   "codemirror_mode": {
    "name": "ipython",
    "version": 3
   },
   "file_extension": ".py",
   "mimetype": "text/x-python",
   "name": "python",
   "nbconvert_exporter": "python",
   "pygments_lexer": "ipython3",
   "version": "3.11.0"
  }
 },
 "nbformat": 4,
 "nbformat_minor": 2
}
