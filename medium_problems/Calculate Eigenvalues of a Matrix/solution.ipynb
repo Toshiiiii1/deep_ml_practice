{
 "cells": [
  {
   "cell_type": "code",
   "execution_count": null,
   "metadata": {},
   "outputs": [],
   "source": [
    "import math\n",
    "\n",
    "def calculate_eigenvalues(matrix: list[list[float|int]]) -> list[float]:\n",
    "    # calculate trace = a + d\n",
    "    trace = matrix[0][0] + matrix[-1][-1]\n",
    "    # calculate determinant = ad - bc\n",
    "    det = matrix[0][0] * matrix[-1][-1] - matrix[0][-1] * matrix[-1][0]\n",
    "    \n",
    "    # solve a quadratic equation to find eigenvalues\n",
    "    delta = trace ** 2 - 4 * det\n",
    "    if delta == 0:\n",
    "        return [trace/2, trace/2]\n",
    "    elif delta > 0:\n",
    "        return sorted([(trace + math.sqrt(delta))/(2), (trace - math.sqrt(delta))/(2)], reverse=True)"
   ]
  },
  {
   "cell_type": "code",
   "execution_count": 8,
   "metadata": {},
   "outputs": [
    {
     "name": "stdout",
     "output_type": "stream",
     "text": [
      "[3.0, 1.0]\n"
     ]
    }
   ],
   "source": [
    "matrix = [[2, 1], [1, 2]]\n",
    "print(calculate_eigenvalues(matrix))"
   ]
  }
 ],
 "metadata": {
  "kernelspec": {
   "display_name": "deep_ml_VM",
   "language": "python",
   "name": "python3"
  },
  "language_info": {
   "codemirror_mode": {
    "name": "ipython",
    "version": 3
   },
   "file_extension": ".py",
   "mimetype": "text/x-python",
   "name": "python",
   "nbconvert_exporter": "python",
   "pygments_lexer": "ipython3",
   "version": "3.11.0"
  }
 },
 "nbformat": 4,
 "nbformat_minor": 2
}
