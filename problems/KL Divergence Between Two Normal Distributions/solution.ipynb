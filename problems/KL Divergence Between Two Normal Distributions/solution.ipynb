{
 "cells": [
  {
   "cell_type": "code",
   "execution_count": null,
   "metadata": {},
   "outputs": [],
   "source": [
    "import numpy as np\n",
    "\n",
    "def kl_divergence_normal(mu_p, sigma_p, mu_q, sigma_q):\n",
    "    # calculate the KL divergence between two normal distributions\n",
    "    # p ~ N(mu_p, sigma_p^2)\n",
    "    # q ~ N(mu_q, sigma_q^2)\n",
    "    return np.log(sigma_q / sigma_p) + (sigma_p**2 + (mu_p - mu_q)**2) / (2 * sigma_q**2) - 0.5"
   ]
  },
  {
   "cell_type": "code",
   "execution_count": 15,
   "metadata": {},
   "outputs": [
    {
     "name": "stdout",
     "output_type": "stream",
     "text": [
      "0.5\n"
     ]
    }
   ],
   "source": [
    "mu_p = 0.0\n",
    "sigma_p = 1.0\n",
    "\n",
    "mu_q = 1.0\n",
    "sigma_q = 1.0\n",
    "\n",
    "print(kl_divergence_normal(mu_p, sigma_p, mu_q, sigma_q))"
   ]
  }
 ],
 "metadata": {
  "kernelspec": {
   "display_name": "deep_ml_VM",
   "language": "python",
   "name": "python3"
  },
  "language_info": {
   "codemirror_mode": {
    "name": "ipython",
    "version": 3
   },
   "file_extension": ".py",
   "mimetype": "text/x-python",
   "name": "python",
   "nbconvert_exporter": "python",
   "pygments_lexer": "ipython3",
   "version": "3.11.0"
  }
 },
 "nbformat": 4,
 "nbformat_minor": 2
}
