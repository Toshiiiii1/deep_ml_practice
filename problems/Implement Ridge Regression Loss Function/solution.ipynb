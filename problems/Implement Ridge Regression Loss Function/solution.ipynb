{
 "cells": [
  {
   "cell_type": "code",
   "execution_count": null,
   "metadata": {},
   "outputs": [],
   "source": [
    "import numpy as np\n",
    "\n",
    "def ridge_loss(X: np.ndarray, w: np.ndarray, y_true: np.ndarray, alpha: float) -> float:\n",
    "    # calculate mse loss\n",
    "    # np.dot(X, w) calculate y_pred\n",
    "    mse = np.mean((np.dot(X, w) - y_true) ** 2)\n",
    "    penalty_temp = alpha * np.sum(w ** 2)\n",
    "    \n",
    "    return mse + penalty_temp"
   ]
  },
  {
   "cell_type": "code",
   "execution_count": 10,
   "metadata": {},
   "outputs": [
    {
     "name": "stdout",
     "output_type": "stream",
     "text": [
      "2.204\n"
     ]
    }
   ],
   "source": [
    "X = np.array([[1, 1], [2, 1], [3, 1], [4, 1]])\n",
    "w = np.array([0.2, 2])\n",
    "y_true = np.array([2, 3, 4, 5])\n",
    "alpha = 0.1\n",
    "loss = ridge_loss(X, w, y_true, alpha)\n",
    "print(loss)"
   ]
  }
 ],
 "metadata": {
  "kernelspec": {
   "display_name": "deep_ml_VM",
   "language": "python",
   "name": "python3"
  },
  "language_info": {
   "codemirror_mode": {
    "name": "ipython",
    "version": 3
   },
   "file_extension": ".py",
   "mimetype": "text/x-python",
   "name": "python",
   "nbconvert_exporter": "python",
   "pygments_lexer": "ipython3",
   "version": "3.11.0"
  }
 },
 "nbformat": 4,
 "nbformat_minor": 2
}
