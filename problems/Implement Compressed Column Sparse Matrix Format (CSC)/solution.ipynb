{
 "cells": [
  {
   "cell_type": "code",
   "execution_count": 10,
   "metadata": {},
   "outputs": [],
   "source": [
    "import numpy as np\n",
    "\n",
    "def compressed_col_sparse_matrix(dense_matrix):\n",
    "    cols = len(dense_matrix[0])\n",
    "    rows = len(dense_matrix)\n",
    "\n",
    "    vals, row_idx, col_ptr = [], [], [0]\n",
    "\n",
    "    for i in range(cols):\n",
    "        count = 0\n",
    "        for j in range(rows):\n",
    "            if dense_matrix[j][i] != 0:\n",
    "                vals.append(dense_matrix[j][i])\n",
    "                row_idx.append(j)\n",
    "                count += 1\n",
    "        col_ptr.append(col_ptr[-1] + count)\n",
    "        \n",
    "    return vals, row_idx, col_ptr"
   ]
  },
  {
   "cell_type": "code",
   "execution_count": 11,
   "metadata": {},
   "outputs": [
    {
     "name": "stdout",
     "output_type": "stream",
     "text": [
      "[1, 2, 3, 4]\n",
      "[1, 2, 0, 1]\n",
      "[0, 1, 2, 3, 4]\n"
     ]
    }
   ],
   "source": [
    "dense_matrix = [\n",
    "    [0, 0, 3, 0],\n",
    "    [1, 0, 0, 4],\n",
    "    [0, 2, 0, 0]\n",
    "]\n",
    "\n",
    "vals, row_idx, col_ptr = compressed_col_sparse_matrix(dense_matrix)\n",
    "print(vals)\n",
    "print(row_idx)\n",
    "print(col_ptr)"
   ]
  }
 ],
 "metadata": {
  "kernelspec": {
   "display_name": "deep_ml_VM",
   "language": "python",
   "name": "python3"
  },
  "language_info": {
   "codemirror_mode": {
    "name": "ipython",
    "version": 3
   },
   "file_extension": ".py",
   "mimetype": "text/x-python",
   "name": "python",
   "nbconvert_exporter": "python",
   "pygments_lexer": "ipython3",
   "version": "3.11.0"
  }
 },
 "nbformat": 4,
 "nbformat_minor": 2
}
