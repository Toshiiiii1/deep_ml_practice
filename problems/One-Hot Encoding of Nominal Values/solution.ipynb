{
 "cells": [
  {
   "cell_type": "code",
   "execution_count": null,
   "metadata": {},
   "outputs": [],
   "source": [
    "import numpy as np\n",
    "\n",
    "def to_categorical(x, n_col=None):\n",
    "    num_row = len(x)\n",
    "    # get unique values in x\n",
    "    values = np.unique(x)\n",
    "    if n_col is None:\n",
    "        n_col = len(values)\n",
    "\t\n",
    " \t# initialize one-hot encoded matrix\n",
    "    one_hot = np.zeros((num_row, n_col))\n",
    "\n",
    "    # fill values in one-hot encoded matrix\n",
    "    for i in range(num_row):\n",
    "        one_hot[i][x[i]] = 1\n",
    "\n",
    "    return one_hot"
   ]
  },
  {
   "cell_type": "code",
   "execution_count": 2,
   "metadata": {},
   "outputs": [
    {
     "name": "stdout",
     "output_type": "stream",
     "text": [
      "[[1. 0. 0.]\n",
      " [0. 1. 0.]\n",
      " [0. 0. 1.]\n",
      " [0. 1. 0.]\n",
      " [1. 0. 0.]]\n"
     ]
    }
   ],
   "source": [
    "x = np.array([0, 1, 2, 1, 0])\n",
    "print(to_categorical(x))"
   ]
  }
 ],
 "metadata": {
  "kernelspec": {
   "display_name": "deep_ml_VM",
   "language": "python",
   "name": "python3"
  },
  "language_info": {
   "codemirror_mode": {
    "name": "ipython",
    "version": 3
   },
   "file_extension": ".py",
   "mimetype": "text/x-python",
   "name": "python",
   "nbconvert_exporter": "python",
   "pygments_lexer": "ipython3",
   "version": "3.11.0"
  }
 },
 "nbformat": 4,
 "nbformat_minor": 2
}
