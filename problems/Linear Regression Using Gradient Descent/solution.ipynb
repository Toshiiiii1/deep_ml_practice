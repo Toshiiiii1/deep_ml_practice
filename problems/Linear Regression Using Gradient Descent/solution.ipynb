{
 "cells": [
  {
   "cell_type": "code",
   "execution_count": 1,
   "metadata": {},
   "outputs": [
    {
     "data": {
      "text/plain": [
       "'\\ndef linear_regression_gradient_descent(X: np.ndarray, y: np.ndarray, alpha: float, iterations: int) -> np.ndarray:\\n\\t# Your code here, make sure to round\\n    m, n = X.shape\\n    theta = np.zeros((n,))\\n\\n    for _ in range(iterations):\\n        pred = X.dot(theta)\\n        error = pred - y\\n        gradient = X.T.dot(error)/m\\n        theta = theta - alpha * gradient\\n    return theta\\n'"
      ]
     },
     "execution_count": 1,
     "metadata": {},
     "output_type": "execute_result"
    }
   ],
   "source": [
    "import numpy as np\n",
    "\n",
    "def linear_model(theta, x):\n",
    "    return sum([theta[i] * x[i] for i in range(len(theta))])\n",
    "    \n",
    "def linear_regression_gradient_descent(X: np.ndarray, y: np.ndarray, alpha: float, iterations: int) -> np.ndarray:\n",
    "    m, n = X.shape\n",
    "    # initialize theta\n",
    "    theta = np.zeros((n,))\n",
    "    \n",
    "    for _ in range(iterations):\n",
    "        new_theta = np.zeros((n,))\n",
    "        for i in range(n):\n",
    "            \"\"\"\n",
    "            sum([(linear_model(theta, X[j]) - y[j]) * X[j][i] for j in range(m)]) is sigma fomular\n",
    "            \"\"\"\n",
    "            new_theta[i] = theta[i] - sum([(linear_model(theta, X[j]) - y[j]) * X[j][i] for j in range(m)])/m * alpha\n",
    "        theta = new_theta.copy()\n",
    "        \n",
    "    return theta\n",
    "\n",
    "\"\"\"\n",
    "def linear_regression_gradient_descent(X: np.ndarray, y: np.ndarray, alpha: float, iterations: int) -> np.ndarray:\n",
    "\t# Your code here, make sure to round\n",
    "    m, n = X.shape\n",
    "    theta = np.zeros((n,))\n",
    "\n",
    "    for _ in range(iterations):\n",
    "        pred = X.dot(theta)\n",
    "        error = pred - y\n",
    "        gradient = X.T.dot(error)/m\n",
    "        theta = theta - alpha * gradient\n",
    "    return theta\n",
    "\"\"\""
   ]
  },
  {
   "cell_type": "code",
   "execution_count": 2,
   "metadata": {},
   "outputs": [
    {
     "name": "stdout",
     "output_type": "stream",
     "text": [
      "Theta: [0.11071521 0.95129619]\n"
     ]
    }
   ],
   "source": [
    "X = np.array([[1, 1], [1, 2], [1, 3]])\n",
    "y = np.array([1, 2, 3])\n",
    "alpha = 0.01\n",
    "iterations = 1000\n",
    "theta = linear_regression_gradient_descent(X, y, alpha, iterations)\n",
    "print(\"Theta:\", theta)"
   ]
  }
 ],
 "metadata": {
  "kernelspec": {
   "display_name": "deep_ml_VM",
   "language": "python",
   "name": "python3"
  },
  "language_info": {
   "codemirror_mode": {
    "name": "ipython",
    "version": 3
   },
   "file_extension": ".py",
   "mimetype": "text/x-python",
   "name": "python",
   "nbconvert_exporter": "python",
   "pygments_lexer": "ipython3",
   "version": "3.11.0"
  }
 },
 "nbformat": 4,
 "nbformat_minor": 2
}
