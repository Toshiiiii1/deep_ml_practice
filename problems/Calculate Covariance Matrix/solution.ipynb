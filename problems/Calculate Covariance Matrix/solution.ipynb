{
 "cells": [
  {
   "cell_type": "code",
   "execution_count": 1,
   "metadata": {},
   "outputs": [],
   "source": [
    "def calculate_covariance_matrix(matrix: list[list[float]]) -> list[list[float]]:\n",
    "    # matrix parameter is a set of vectors (features or columns), not \"normal\" matrix\n",
    "    # len(matrix) return number of columns instead of rows\n",
    "    \n",
    "    # calculate the mean of each column\n",
    "    means = [sum(row)/len(row) for row in matrix]\n",
    "    \n",
    "    # create a covariance matrix full 0s\n",
    "    result = [[0] * len(matrix) for _ in range(len(matrix))]\n",
    "    \n",
    "    # number of rows of each column\n",
    "    m = len(matrix[0])\n",
    "    for i in range(len(matrix)):\n",
    "        for j in range(len(matrix)):\n",
    "            \"\"\"\n",
    "            - i=0, j=0: cov(X1, X1)\n",
    "            - i=0, j=1: cov(X1, X2)\n",
    "            ...\n",
    "            \"\"\"\n",
    "            result[i][j] = sum([(matrix[i][k] - means[i]) * (matrix[j][k] - means[j]) for k in range(m)])/(m-1)\n",
    "    \n",
    "    return result"
   ]
  },
  {
   "cell_type": "code",
   "execution_count": 2,
   "metadata": {},
   "outputs": [
    {
     "name": "stdout",
     "output_type": "stream",
     "text": [
      "[[1.0, 1.0], [1.0, 1.0]]\n"
     ]
    }
   ],
   "source": [
    "matrix = [[1, 2, 3], [4, 5, 6]]\n",
    "print(calculate_covariance_matrix(matrix))"
   ]
  }
 ],
 "metadata": {
  "kernelspec": {
   "display_name": "deep_ml_VM",
   "language": "python",
   "name": "python3"
  },
  "language_info": {
   "codemirror_mode": {
    "name": "ipython",
    "version": 3
   },
   "file_extension": ".py",
   "mimetype": "text/x-python",
   "name": "python",
   "nbconvert_exporter": "python",
   "pygments_lexer": "ipython3",
   "version": "3.11.0"
  }
 },
 "nbformat": 4,
 "nbformat_minor": 2
}
